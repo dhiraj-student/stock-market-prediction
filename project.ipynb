{
 "cells": [
  {
   "cell_type": "code",
   "execution_count": null,
   "metadata": {},
   "outputs": [],
   "source": [
    "import numpy as np \n",
    "import pandas as pd \n",
    "import matplotlib.pyplot as plt \n",
    "from sklearn.preprocessing import MinMaxScaler\n",
    "from keras.models import Sequential\n",
    "from keras.layers import Dense,LSTM,Dropout"
   ]
  },
  {
   "cell_type": "code",
   "execution_count": 6,
   "metadata": {},
   "outputs": [
    {
     "data": {
      "text/html": [
       "<div>\n",
       "<style scoped>\n",
       "    .dataframe tbody tr th:only-of-type {\n",
       "        vertical-align: middle;\n",
       "    }\n",
       "\n",
       "    .dataframe tbody tr th {\n",
       "        vertical-align: top;\n",
       "    }\n",
       "\n",
       "    .dataframe thead th {\n",
       "        text-align: right;\n",
       "    }\n",
       "</style>\n",
       "<table border=\"1\" class=\"dataframe\">\n",
       "  <thead>\n",
       "    <tr style=\"text-align: right;\">\n",
       "      <th></th>\n",
       "      <th>Date</th>\n",
       "      <th>Open</th>\n",
       "      <th>High</th>\n",
       "      <th>Low</th>\n",
       "      <th>Close</th>\n",
       "      <th>Volume</th>\n",
       "    </tr>\n",
       "  </thead>\n",
       "  <tbody>\n",
       "    <tr>\n",
       "      <th>0</th>\n",
       "      <td>13-4-23</td>\n",
       "      <td>17807</td>\n",
       "      <td>17842</td>\n",
       "      <td>17730</td>\n",
       "      <td>17828</td>\n",
       "      <td>26460</td>\n",
       "    </tr>\n",
       "    <tr>\n",
       "      <th>1</th>\n",
       "      <td>17-04-2023</td>\n",
       "      <td>17863</td>\n",
       "      <td>17863</td>\n",
       "      <td>17574</td>\n",
       "      <td>17707</td>\n",
       "      <td>35119</td>\n",
       "    </tr>\n",
       "    <tr>\n",
       "      <th>2</th>\n",
       "      <td>18-04-2023</td>\n",
       "      <td>17767</td>\n",
       "      <td>17767</td>\n",
       "      <td>17610</td>\n",
       "      <td>17660</td>\n",
       "      <td>23033</td>\n",
       "    </tr>\n",
       "    <tr>\n",
       "      <th>3</th>\n",
       "      <td>19-04-2023</td>\n",
       "      <td>17653</td>\n",
       "      <td>17666</td>\n",
       "      <td>17580</td>\n",
       "      <td>17619</td>\n",
       "      <td>21562</td>\n",
       "    </tr>\n",
       "    <tr>\n",
       "      <th>4</th>\n",
       "      <td>20-04-2023</td>\n",
       "      <td>17639</td>\n",
       "      <td>17684</td>\n",
       "      <td>17584</td>\n",
       "      <td>17624</td>\n",
       "      <td>19457</td>\n",
       "    </tr>\n",
       "  </tbody>\n",
       "</table>\n",
       "</div>"
      ],
      "text/plain": [
       "         Date   Open   High    Low  Close  Volume\n",
       "0     13-4-23  17807  17842  17730  17828   26460\n",
       "1  17-04-2023  17863  17863  17574  17707   35119\n",
       "2  18-04-2023  17767  17767  17610  17660   23033\n",
       "3  19-04-2023  17653  17666  17580  17619   21562\n",
       "4  20-04-2023  17639  17684  17584  17624   19457"
      ]
     },
     "execution_count": 6,
     "metadata": {},
     "output_type": "execute_result"
    }
   ],
   "source": [
    "data = pd.read_csv('nifty50.csv')\n",
    "data.head()"
   ]
  },
  {
   "cell_type": "code",
   "execution_count": 7,
   "metadata": {},
   "outputs": [
    {
     "name": "stdout",
     "output_type": "stream",
     "text": [
      "<class 'pandas.core.frame.DataFrame'>\n",
      "RangeIndex: 249 entries, 0 to 248\n",
      "Data columns (total 6 columns):\n",
      " #   Column  Non-Null Count  Dtype \n",
      "---  ------  --------------  ----- \n",
      " 0   Date    249 non-null    object\n",
      " 1   Open    249 non-null    int64 \n",
      " 2   High    249 non-null    int64 \n",
      " 3   Low     249 non-null    int64 \n",
      " 4   Close   249 non-null    int64 \n",
      " 5   Volume  249 non-null    int64 \n",
      "dtypes: int64(5), object(1)\n",
      "memory usage: 11.8+ KB\n"
     ]
    }
   ],
   "source": [
    "data.info()"
   ]
  },
  {
   "cell_type": "code",
   "execution_count": 8,
   "metadata": {},
   "outputs": [],
   "source": [
    "data[\"Close\"]=pd.to_numeric(data.Close,errors='coerce')\n",
    "data = data.dropna()\n",
    "trainData = data.iloc[:,4:5].values"
   ]
  },
  {
   "cell_type": "code",
   "execution_count": 9,
   "metadata": {},
   "outputs": [
    {
     "name": "stdout",
     "output_type": "stream",
     "text": [
      "<class 'pandas.core.frame.DataFrame'>\n",
      "RangeIndex: 249 entries, 0 to 248\n",
      "Data columns (total 6 columns):\n",
      " #   Column  Non-Null Count  Dtype \n",
      "---  ------  --------------  ----- \n",
      " 0   Date    249 non-null    object\n",
      " 1   Open    249 non-null    int64 \n",
      " 2   High    249 non-null    int64 \n",
      " 3   Low     249 non-null    int64 \n",
      " 4   Close   249 non-null    int64 \n",
      " 5   Volume  249 non-null    int64 \n",
      "dtypes: int64(5), object(1)\n",
      "memory usage: 11.8+ KB\n"
     ]
    }
   ],
   "source": [
    "data.info()"
   ]
  },
  {
   "cell_type": "code",
   "execution_count": 10,
   "metadata": {},
   "outputs": [
    {
     "data": {
      "text/plain": [
       "(249, 1)"
      ]
     },
     "execution_count": 10,
     "metadata": {},
     "output_type": "execute_result"
    }
   ],
   "source": [
    "sc = MinMaxScaler(feature_range=(0,1))\n",
    "trainData = sc.fit_transform(trainData)\n",
    "trainData.shape"
   ]
  },
  {
   "cell_type": "code",
   "execution_count": 15,
   "metadata": {},
   "outputs": [
    {
     "name": "stdout",
     "output_type": "stream",
     "text": [
      "[[4.07010711e-02 1.71372931e-02 7.98442064e-03 ... 3.65725414e-01\n",
      "  3.33592989e-01 3.38266796e-01]\n",
      " [1.71372931e-02 7.98442064e-03 0.00000000e+00 ... 3.33592989e-01\n",
      "  3.38266796e-01 3.54430380e-01]\n",
      " [7.98442064e-03 0.00000000e+00 9.73709834e-04 ... 3.38266796e-01\n",
      "  3.54430380e-01 3.43719572e-01]\n",
      " ...\n",
      " [7.84420643e-01 8.32716650e-01 8.72054528e-01 ... 9.53456670e-01\n",
      "  9.53261928e-01 9.82862707e-01]\n",
      " [8.32716650e-01 8.72054528e-01 8.59396300e-01 ... 9.53261928e-01\n",
      "  9.82862707e-01 9.78383642e-01]\n",
      " [8.72054528e-01 8.59396300e-01 7.69814995e-01 ... 9.82862707e-01\n",
      "  9.78383642e-01 1.00000000e+00]]\n",
      "[0.35443038 0.34371957 0.34956183 0.37896787 0.40740019 0.41480039\n",
      " 0.43115871 0.45959104 0.41402142 0.39980526 0.40155794 0.42044791\n",
      " 0.39746835 0.39474197 0.4157741  0.41187926 0.37156767 0.34333009\n",
      " 0.36962025 0.38519961 0.38013632 0.39221032 0.37468354 0.35228822\n",
      " 0.35365141 0.35949367 0.34001947 0.32930867 0.34566699 0.34605648\n",
      " 0.35540409 0.3443038  0.32074002 0.3285297  0.33573515 0.33651412\n",
      " 0.31840312 0.35365141 0.37195716 0.38091529 0.387926   0.41051607\n",
      " 0.42862707 0.46290166 0.46231743 0.47731256 0.48373905 0.50107108\n",
      " 0.4895813  0.44440117 0.4134372  0.40019474 0.40038948 0.39844206\n",
      " 0.4083739  0.37098345 0.39318403 0.37195716 0.35384615 0.37526777\n",
      " 0.3962999  0.36864654 0.40331061 0.42687439 0.42356378 0.41518987\n",
      " 0.41148978 0.42706913 0.39961052 0.39065239 0.37468354 0.32385589\n",
      " 0.29269718 0.24109056 0.27809153 0.29639727 0.28451801 0.26679649\n",
      " 0.29483934 0.31392405 0.34917235 0.34819864 0.35540409 0.34586173\n",
      " 0.35170399 0.37137293 0.35540409 0.40038948 0.41791626 0.41148978\n",
      " 0.40408958 0.42142162 0.42706913 0.42512171 0.42375852 0.44225901\n",
      " 0.48257059 0.4895813  0.51587147 0.59746835 0.630185   0.64634859\n",
      " 0.63914314 0.65238559 0.65783836 0.64011685 0.64401168 0.69406037\n",
      " 0.74741967 0.74001947 0.7466407  0.68763389 0.70808179 0.72638754\n",
      " 0.7443038  0.78597858 0.81012658 0.80077897 0.80292113 0.78812074\n",
      " 0.75910419 0.78675755 0.79688413 0.75832522 0.76455696 0.77896787\n",
      " 0.78442064 0.83271665 0.87205453 0.8593963  0.769815   0.74839338\n",
      " 0.77955209 0.769815   0.70496592 0.74683544 0.7271665  0.80214216\n",
      " 0.7600779  0.79980526 0.79415774 0.82473223 0.80876339 0.83933788\n",
      " 0.83972736 0.79824732 0.81090555 0.77838364 0.80311587 0.82200584\n",
      " 0.83583252 0.86114898 0.87692308 0.89152872 0.86387537 0.89542356\n",
      " 0.8946446  0.87692308 0.89172347 0.8436222  0.84985394 0.91918208\n",
      " 0.92677702 0.9322298  0.9224927  0.94547225 0.94936709 0.91801363\n",
      " 0.91859786 0.85277507 0.88179163 0.85764362 0.86407011 0.81752678\n",
      " 0.8218111  0.85550146 0.87205453 0.85413827 0.87731256 0.91684518\n",
      " 0.94313535 0.94138267 0.93787731 0.95345667 0.95326193 0.98286271\n",
      " 0.97838364 1.         0.95423564]\n"
     ]
    }
   ],
   "source": [
    "X_train = []\n",
    "y_train = []\n",
    "\n",
    "for i in range (60,249): #60 : timestep // 249 : length of the data\n",
    "    X_train.append(trainData[i-60:i,0]) \n",
    "    y_train.append(trainData[i,0])\n",
    "\n",
    "X_train,y_train = np.array(X_train),np.array(y_train)\n",
    "print(X_train)\n",
    "print(y_train)\n"
   ]
  },
  {
   "cell_type": "code",
   "execution_count": 12,
   "metadata": {},
   "outputs": [
    {
     "data": {
      "text/plain": [
       "(189, 60, 1)"
      ]
     },
     "execution_count": 12,
     "metadata": {},
     "output_type": "execute_result"
    }
   ],
   "source": [
    "X_train = np.reshape(X_train,(X_train.shape[0],X_train.shape[1],1)) #adding the batch_size axis\n",
    "X_train.shape"
   ]
  },
  {
   "cell_type": "code",
   "execution_count": null,
   "metadata": {},
   "outputs": [],
   "source": [
    "model = Sequential()\n",
    "\n",
    "model.add(LSTM(units=100, return_sequences = True, input_shape =(X_train.shape[1],1)))\n",
    "model.add(Dropout(0.2))\n",
    "\n",
    "model.add(LSTM(units=100, return_sequences = True))\n",
    "model.add(Dropout(0.2))\n",
    "\n",
    "model.add(LSTM(units=100, return_sequences = True))\n",
    "model.add(Dropout(0.2))\n",
    "\n",
    "model.add(LSTM(units=100, return_sequences = False))\n",
    "model.add(Dropout(0.2))\n",
    "\n",
    "model.add(Dense(units =1))\n",
    "model.compile(optimizer='adam',loss=\"mean_squared_error\")"
   ]
  },
  {
   "cell_type": "code",
   "execution_count": 15,
   "metadata": {},
   "outputs": [
    {
     "name": "stdout",
     "output_type": "stream",
     "text": [
      "Epoch 1/20\n",
      "6/6 - 2s - 362ms/step - loss: 0.1474\n",
      "Epoch 2/20\n",
      "6/6 - 0s - 81ms/step - loss: 0.0454\n",
      "Epoch 3/20\n",
      "6/6 - 0s - 80ms/step - loss: 0.0213\n",
      "Epoch 4/20\n",
      "6/6 - 0s - 81ms/step - loss: 0.0215\n",
      "Epoch 5/20\n",
      "6/6 - 0s - 81ms/step - loss: 0.0166\n",
      "Epoch 6/20\n",
      "6/6 - 0s - 80ms/step - loss: 0.0119\n",
      "Epoch 7/20\n",
      "6/6 - 0s - 80ms/step - loss: 0.0100\n",
      "Epoch 8/20\n",
      "6/6 - 0s - 81ms/step - loss: 0.0098\n",
      "Epoch 9/20\n",
      "6/6 - 0s - 81ms/step - loss: 0.0101\n",
      "Epoch 10/20\n",
      "6/6 - 0s - 80ms/step - loss: 0.0077\n",
      "Epoch 11/20\n",
      "6/6 - 0s - 81ms/step - loss: 0.0081\n",
      "Epoch 12/20\n",
      "6/6 - 0s - 83ms/step - loss: 0.0087\n",
      "Epoch 13/20\n",
      "6/6 - 0s - 83ms/step - loss: 0.0082\n",
      "Epoch 14/20\n",
      "6/6 - 0s - 80ms/step - loss: 0.0089\n",
      "Epoch 15/20\n",
      "6/6 - 0s - 81ms/step - loss: 0.0097\n",
      "Epoch 16/20\n",
      "6/6 - 0s - 82ms/step - loss: 0.0085\n",
      "Epoch 17/20\n",
      "6/6 - 0s - 83ms/step - loss: 0.0084\n",
      "Epoch 18/20\n",
      "6/6 - 1s - 84ms/step - loss: 0.0075\n",
      "Epoch 19/20\n",
      "6/6 - 0s - 83ms/step - loss: 0.0092\n",
      "Epoch 20/20\n",
      "6/6 - 0s - 83ms/step - loss: 0.0082\n"
     ]
    }
   ],
   "source": [
    "hist = model.fit(X_train, y_train, epochs = 20, batch_size = 32, verbose=2)"
   ]
  },
  {
   "cell_type": "code",
   "execution_count": 16,
   "metadata": {},
   "outputs": [
    {
     "data": {
      "image/png": "[encoded data removed]",
      "text/plain": [
       "<Figure size 640x480 with 1 Axes>"
      ]
     },
     "metadata": {},
     "output_type": "display_data"
    }
   ],
   "source": [
    "plt.plot(hist.history['loss'])\n",
    "plt.title('Training model loss')\n",
    "plt.ylabel('loss')\n",
    "plt.xlabel('epoch')\n",
    "plt.legend(['train'], loc='upper left')\n",
    "plt.show()"
   ]
  },
  {
   "cell_type": "code",
   "execution_count": 26,
   "metadata": {},
   "outputs": [
    {
     "data": {
      "text/plain": [
       "(189, 60, 1)"
      ]
     },
     "execution_count": 26,
     "metadata": {},
     "output_type": "execute_result"
    }
   ],
   "source": [
    "testData = pd.read_csv('nifty50.csv')\n",
    "testData[\"Close\"]=pd.to_numeric(testData.Close,errors='coerce')\n",
    "testData = testData.dropna()\n",
    "testData = testData.iloc[:,4:5]\n",
    "y_test = testData.iloc[60:,0:].values \n",
    "#input array for the model\n",
    "inputClosing = testData.iloc[:,0:].values \n",
    "inputClosing_scaled = sc.transform(inputClosing)\n",
    "inputClosing_scaled.shape\n",
    "X_test = []\n",
    "length = len(testData)\n",
    "timestep = 60\n",
    "for i in range(timestep,length):  \n",
    "    X_test.append(inputClosing_scaled[i-timestep:i,0])\n",
    "X_test = np.array(X_test)\n",
    "X_test = np.reshape(X_test,(X_test.shape[0],X_test.shape[1],1))\n",
    "X_test.shape"
   ]
  },
  {
   "cell_type": "code",
   "execution_count": 28,
   "metadata": {},
   "outputs": [
    {
     "name": "stdout",
     "output_type": "stream",
     "text": [
      "\u001b[1m6/6\u001b[0m \u001b[32m━━━━━━━━━━━━━━━━━━━━\u001b[0m\u001b[37m\u001b[0m \u001b[1m0s\u001b[0m 24ms/step\n"
     ]
    },
    {
     "data": {
      "text/plain": [
       "array([[0.30015916],\n",
       "       [0.3095978 ],\n",
       "       [0.31922933],\n",
       "       [0.32872254],\n",
       "       [0.33791873],\n",
       "       [0.34685147],\n",
       "       [0.35562557],\n",
       "       [0.36438888],\n",
       "       [0.37335575],\n",
       "       [0.38247502],\n",
       "       [0.39149994],\n",
       "       [0.40013093],\n",
       "       [0.40817088],\n",
       "       [0.41539618],\n",
       "       [0.4216171 ],\n",
       "       [0.42680684],\n",
       "       [0.43100977],\n",
       "       [0.434146  ],\n",
       "       [0.43602327],\n",
       "       [0.43660906],\n",
       "       [0.43605554],\n",
       "       [0.43458444],\n",
       "       [0.4324973 ],\n",
       "       [0.43002158],\n",
       "       [0.42724282],\n",
       "       [0.42420548],\n",
       "       [0.42097574],\n",
       "       [0.41755444],\n",
       "       [0.41389775],\n",
       "       [0.4100489 ],\n",
       "       [0.40610075],\n",
       "       [0.40220731],\n",
       "       [0.3984807 ],\n",
       "       [0.39490545],\n",
       "       [0.39146197],\n",
       "       [0.3881711 ],\n",
       "       [0.38507527],\n",
       "       [0.38214675],\n",
       "       [0.3794893 ],\n",
       "       [0.3773085 ],\n",
       "       [0.37583017],\n",
       "       [0.37524426],\n",
       "       [0.37574273],\n",
       "       [0.3775012 ],\n",
       "       [0.38073033],\n",
       "       [0.38552448],\n",
       "       [0.39188707],\n",
       "       [0.39971212],\n",
       "       [0.40884793],\n",
       "       [0.41900724],\n",
       "       [0.4296276 ],\n",
       "       [0.439965  ],\n",
       "       [0.44927973],\n",
       "       [0.4570017 ],\n",
       "       [0.46278104],\n",
       "       [0.46653613],\n",
       "       [0.46822214],\n",
       "       [0.46800512],\n",
       "       [0.46608847],\n",
       "       [0.4626581 ],\n",
       "       [0.45802644],\n",
       "       [0.45264557],\n",
       "       [0.44686228],\n",
       "       [0.44109946],\n",
       "       [0.43583578],\n",
       "       [0.43145287],\n",
       "       [0.42815754],\n",
       "       [0.42599368],\n",
       "       [0.4249562 ],\n",
       "       [0.42485815],\n",
       "       [0.42540473],\n",
       "       [0.426225  ],\n",
       "       [0.42677045],\n",
       "       [0.42642885],\n",
       "       [0.42452574],\n",
       "       [0.4207487 ],\n",
       "       [0.41516653],\n",
       "       [0.4080385 ],\n",
       "       [0.39967293],\n",
       "       [0.3905385 ],\n",
       "       [0.38121474],\n",
       "       [0.37239087],\n",
       "       [0.36466017],\n",
       "       [0.35846663],\n",
       "       [0.35401785],\n",
       "       [0.3513495 ],\n",
       "       [0.35043475],\n",
       "       [0.35108632],\n",
       "       [0.35321048],\n",
       "       [0.35676557],\n",
       "       [0.36163458],\n",
       "       [0.3675869 ],\n",
       "       [0.3743968 ],\n",
       "       [0.38184303],\n",
       "       [0.3896841 ],\n",
       "       [0.3976664 ],\n",
       "       [0.4056239 ],\n",
       "       [0.41359717],\n",
       "       [0.42168853],\n",
       "       [0.4300769 ],\n",
       "       [0.43923232],\n",
       "       [0.449696  ],\n",
       "       [0.4618855 ],\n",
       "       [0.47591513],\n",
       "       [0.49166945],\n",
       "       [0.50883996],\n",
       "       [0.5268859 ],\n",
       "       [0.54519385],\n",
       "       [0.5633866 ],\n",
       "       [0.58141583],\n",
       "       [0.5992535 ],\n",
       "       [0.6168496 ],\n",
       "       [0.63381547],\n",
       "       [0.64977986],\n",
       "       [0.6645073 ],\n",
       "       [0.67793334],\n",
       "       [0.6902603 ],\n",
       "       [0.701842  ],\n",
       "       [0.7129465 ],\n",
       "       [0.7237355 ],\n",
       "       [0.7341883 ],\n",
       "       [0.7440562 ],\n",
       "       [0.753177  ],\n",
       "       [0.761483  ],\n",
       "       [0.7687765 ],\n",
       "       [0.7749111 ],\n",
       "       [0.77987975],\n",
       "       [0.7837803 ],\n",
       "       [0.7869839 ],\n",
       "       [0.7900675 ],\n",
       "       [0.7934801 ],\n",
       "       [0.7970824 ],\n",
       "       [0.8004506 ],\n",
       "       [0.8032861 ],\n",
       "       [0.80535406],\n",
       "       [0.8062257 ],\n",
       "       [0.8057646 ],\n",
       "       [0.8039264 ],\n",
       "       [0.80113894],\n",
       "       [0.79774815],\n",
       "       [0.79424137],\n",
       "       [0.79103035],\n",
       "       [0.7885546 ],\n",
       "       [0.78705853],\n",
       "       [0.7867702 ],\n",
       "       [0.7877957 ],\n",
       "       [0.7899145 ],\n",
       "       [0.7928448 ],\n",
       "       [0.7961328 ],\n",
       "       [0.7994572 ],\n",
       "       [0.80267733],\n",
       "       [0.8058025 ],\n",
       "       [0.8090025 ],\n",
       "       [0.8125196 ],\n",
       "       [0.8166049 ],\n",
       "       [0.82127815],\n",
       "       [0.8265793 ],\n",
       "       [0.83247423],\n",
       "       [0.83877355],\n",
       "       [0.8452992 ],\n",
       "       [0.8516428 ],\n",
       "       [0.8574309 ],\n",
       "       [0.86270416],\n",
       "       [0.86765784],\n",
       "       [0.8725229 ],\n",
       "       [0.87742865],\n",
       "       [0.8825272 ],\n",
       "       [0.8879191 ],\n",
       "       [0.8934765 ],\n",
       "       [0.898997  ],\n",
       "       [0.9039583 ],\n",
       "       [0.9080029 ],\n",
       "       [0.9108064 ],\n",
       "       [0.91221565],\n",
       "       [0.9120125 ],\n",
       "       [0.9101195 ],\n",
       "       [0.90676737],\n",
       "       [0.9023959 ],\n",
       "       [0.89740497],\n",
       "       [0.8922599 ],\n",
       "       [0.8875522 ],\n",
       "       [0.8838987 ],\n",
       "       [0.8817412 ],\n",
       "       [0.8812858 ],\n",
       "       [0.88260126],\n",
       "       [0.8855911 ],\n",
       "       [0.89016825],\n",
       "       [0.89613825],\n",
       "       [0.90332484]], dtype=float32)"
      ]
     },
     "execution_count": 28,
     "metadata": {},
     "output_type": "execute_result"
    }
   ],
   "source": [
    "y_pred = model.predict(X_test)\n",
    "y_pred"
   ]
  },
  {
   "cell_type": "code",
   "execution_count": 20,
   "metadata": {},
   "outputs": [],
   "source": [
    "predicted_price = sc.inverse_transform(y_pred)"
   ]
  },
  {
   "cell_type": "code",
   "execution_count": 29,
   "metadata": {},
   "outputs": [
    {
     "data": {
      "image/png": "[encoded data removed]",
      "text/plain": [
       "<Figure size 640x480 with 1 Axes>"
      ]
     },
     "metadata": {},
     "output_type": "display_data"
    }
   ],
   "source": [
    "plt.plot(y_test, color = 'red', label = 'Actual Stock Price')\n",
    "plt.plot(predicted_price, color = 'green', label = 'Predicted Stock Price')\n",
    "plt.title('Nifty50 price prediction')\n",
    "plt.xlabel('Time')\n",
    "plt.ylabel('Stock Price')\n",
    "plt.legend()\n",
    "plt.show()"
   ]
  }
 ],
 "metadata": {
  "kernelspec": {
   "display_name": "project",
   "language": "python",
   "name": "python3"
  },
  "language_info": {
   "codemirror_mode": {
    "name": "ipython",
    "version": 3
   },
   "file_extension": ".py",
   "mimetype": "text/x-python",
   "name": "python",
   "nbconvert_exporter": "python",
   "pygments_lexer": "ipython3",
   "version": "3.9.6"
  }
 },
 "nbformat": 4,
 "nbformat_minor": 2
}
